{
 "cells": [
  {
   "cell_type": "code",
   "execution_count": null,
   "metadata": {},
   "outputs": [],
   "source": [
    "#! sudo apt install docker-compose"
   ]
  },
  {
   "cell_type": "code",
   "execution_count": 1,
   "metadata": {},
   "outputs": [
    {
     "name": "stdout",
     "output_type": "stream",
     "text": [
      "--2023-05-17 04:55:46--  https://github.com/chroma-core/chroma/blob/main/Dockerfile\n",
      "Resolving github.com (github.com)... 20.200.245.247\n",
      "Connecting to github.com (github.com)|20.200.245.247|:443... connected.\n",
      "HTTP request sent, awaiting response... 200 OK\n",
      "Length: unspecified [text/html]\n",
      "Saving to: ‘Dockerfile’\n",
      "\n",
      "Dockerfile              [ <=>                ] 151.26K  --.-KB/s    in 0.002s  \n",
      "\n",
      "2023-05-17 04:55:46 (67.5 MB/s) - ‘Dockerfile’ saved [154887]\n",
      "\n",
      "--2023-05-17 04:55:47--  https://github.com/chroma-core/chroma/blob/main/docker-compose.yml\n",
      "Resolving github.com (github.com)... 20.200.245.247\n",
      "Connecting to github.com (github.com)|20.200.245.247|:443... connected.\n",
      "HTTP request sent, awaiting response... 200 OK\n",
      "Length: unspecified [text/html]\n",
      "Saving to: ‘docker-compose.yml’\n",
      "\n",
      "docker-compose.yml      [ <=>                ] 169.23K  --.-KB/s    in 0.003s  \n",
      "\n",
      "2023-05-17 04:55:47 (57.6 MB/s) - ‘docker-compose.yml’ saved [173287]\n",
      "\n"
     ]
    }
   ],
   "source": [
    "! wget https://raw.githubusercontent.com/chroma-core/chroma/main/Dockerfile -O Dockerfile\n",
    "\n",
    "! wget https://raw.githubusercontent.com/chroma-core/chroma/main/docker-compose.yml -O docker-compose.yml\n"
   ]
  },
  {
   "cell_type": "code",
   "execution_count": null,
   "metadata": {},
   "outputs": [],
   "source": []
  }
 ],
 "metadata": {
  "kernelspec": {
   "display_name": "Python 3",
   "language": "python",
   "name": "python3"
  },
  "language_info": {
   "codemirror_mode": {
    "name": "ipython",
    "version": 3
   },
   "file_extension": ".py",
   "mimetype": "text/x-python",
   "name": "python",
   "nbconvert_exporter": "python",
   "pygments_lexer": "ipython3",
   "version": "3.8.10"
  },
  "orig_nbformat": 4
 },
 "nbformat": 4,
 "nbformat_minor": 2
}
